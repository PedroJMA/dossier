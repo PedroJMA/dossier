{
 "cells": [
  {
   "cell_type": "markdown",
   "metadata": {},
   "source": [
    "# Inversión Fija Bruta\n",
    "INEGI"
   ]
  },
  {
   "cell_type": "code",
   "execution_count": 1,
   "metadata": {
    "collapsed": true,
    "jupyter": {
     "outputs_hidden": true
    }
   },
   "outputs": [
    {
     "name": "stderr",
     "output_type": "stream",
     "text": [
      "Registered S3 method overwritten by 'rvest':\n",
      "  method            from\n",
      "  read_xml.response xml2\n",
      "-- \u001b[1mAttaching packages\u001b[22m --------------------------------------- tidyverse 1.2.1 --\n",
      "\u001b[32mv\u001b[39m \u001b[34mggplot2\u001b[39m 3.2.1       \u001b[32mv\u001b[39m \u001b[34mpurrr  \u001b[39m 0.3.2  \n",
      "\u001b[32mv\u001b[39m \u001b[34mtibble \u001b[39m 2.1.1       \u001b[32mv\u001b[39m \u001b[34mdplyr  \u001b[39m 0.8.0.\u001b[31m1\u001b[39m\n",
      "\u001b[32mv\u001b[39m \u001b[34mtidyr  \u001b[39m 0.8.3       \u001b[32mv\u001b[39m \u001b[34mstringr\u001b[39m 1.4.0  \n",
      "\u001b[32mv\u001b[39m \u001b[34mreadr  \u001b[39m 1.3.1       \u001b[32mv\u001b[39m \u001b[34mforcats\u001b[39m 0.4.0  \n",
      "-- \u001b[1mConflicts\u001b[22m ------------------------------------------ tidyverse_conflicts() --\n",
      "\u001b[31mx\u001b[39m \u001b[34mdplyr\u001b[39m::\u001b[32mfilter()\u001b[39m masks \u001b[34mstats\u001b[39m::filter()\n",
      "\u001b[31mx\u001b[39m \u001b[34mdplyr\u001b[39m::\u001b[32mlag()\u001b[39m    masks \u001b[34mstats\u001b[39m::lag()\n",
      "\n",
      "Attaching package: 'lubridate'\n",
      "\n",
      "The following object is masked from 'package:base':\n",
      "\n",
      "    date\n",
      "\n",
      "\n",
      "Attaching package: 'seasonal'\n",
      "\n",
      "The following object is masked from 'package:tibble':\n",
      "\n",
      "    view\n",
      "\n",
      "Registered S3 method overwritten by 'xts':\n",
      "  method     from\n",
      "  as.zoo.xts zoo \n",
      "Registered S3 method overwritten by 'quantmod':\n",
      "  method            from\n",
      "  as.zoo.data.frame zoo \n",
      "Registered S3 methods overwritten by 'forecast':\n",
      "  method                 from     \n",
      "  autoplot.Arima         ggfortify\n",
      "  autoplot.acf           ggfortify\n",
      "  autoplot.ar            ggfortify\n",
      "  autoplot.bats          ggfortify\n",
      "  autoplot.decomposed.ts ggfortify\n",
      "  autoplot.ets           ggfortify\n",
      "  autoplot.forecast      ggfortify\n",
      "  autoplot.stl           ggfortify\n",
      "  autoplot.ts            ggfortify\n",
      "  fitted.ar              ggfortify\n",
      "  fitted.fracdiff        fracdiff \n",
      "  fortify.ts             ggfortify\n",
      "  residuals.ar           ggfortify\n",
      "  residuals.fracdiff     fracdiff \n"
     ]
    }
   ],
   "source": [
    "# library \n",
    "Packages <- c(\"tidyverse\",\"lubridate\",\"ggplot2\", \"dplyr\", \"seasonal\", \"ggseas\", \"ggfortify\", \"forecast\", \"mFilter\")\n",
    "invisible(lapply(Packages, library, character.only=TRUE))\n",
    "\n",
    "#set strings as factors to false \n",
    "options(stringsAsFactors=FALSE)\n"
   ]
  },
  {
   "cell_type": "code",
   "execution_count": 28,
   "metadata": {
    "collapsed": true,
    "jupyter": {
     "outputs_hidden": true
    }
   },
   "outputs": [],
   "source": [
    "mytimeseries <- function(var, lab_var){\n",
    "     # raw_data \n",
    "    rawdata <- read_csv(\"data/ifb.csv\")\n",
    "    rawdata <- data.frame(mutate(rawdata, time = make_date(year, mes) ))\n",
    "    #head(rawdata,3)\n",
    "\n",
    "    #selección de datos, 2010 en adelante\n",
    "    wrk <- rawdata %>% \n",
    "        filter(time>=as.Date(\"2010-01-01\"))\n",
    "    wrk <- ts(as_tibble(wrk),frequency=12, start=c(2010,1))\n",
    "    \n",
    "    raw_data <- wrk[,var]\n",
    "    # Seasonal adjustment X13\n",
    "    seas_adj <- seas(raw_data)\n",
    "    #str(seas_adj$data)\n",
    "    #summary(seas_adj$data)\n",
    "    #head(seas_adj$data,3)\n",
    "    seas_adj$model$arima\n",
    "    arima <- seas_adj$model$arima$model\n",
    "    modelo <- paste(\" Modelo ARIMA:\",arima,sep=\"\")\n",
    "    \n",
    "    # HP filter \n",
    "    hp_data <- hpfilter(seas_adj$data[,\"seasonaladj\"])\n",
    "    #summary(hp_data$trend)\n",
    "    #str(hp_data$trend)\n",
    "\n",
    "    #plot_data\n",
    "\n",
    "    plot_data <- ts(\n",
    "        mutate(as_tibble(seas_adj$data), \n",
    "               hp_trend = hp_data$trend, \n",
    "               rawdata = raw_data, \n",
    "               year = wrk[,\"year\"], \n",
    "               mes=wrk[,\"mes\"], \n",
    "               time = make_date(year,mes)\n",
    "              ), frequency=12, start=c(2010,1), end=c(2019,8)\n",
    "                    )\n",
    "    \n",
    "    csv_data <- subset(data.frame(plot_data), select=c(\"year\",\"mes\",\"rawdata\",\"seasonaladj\",\"trend\",\"hp_trend\"))\n",
    "    \n",
    "    csvpath <- paste(\"output/\",var,sep=\"\")\n",
    "    csvpath <- paste(csvpath,\".csv\", sep=\"\")\n",
    "    write_csv(csv_data, path=csvpath)\n",
    "\n",
    "    # graph   \n",
    "    sub_lab <- \"Índice base 2013 = 100\"\n",
    "    \n",
    "    autoplot(plot_data[,c(\"seasonaladj\", \"trend\", \"hp_trend\")], size=.8) + \n",
    "        labs( title = lab_var, \n",
    "             subtitle = sub_lab, \n",
    "             x = \"\", \n",
    "             y = \"\", \n",
    "             caption=paste(\"Fuente: Elaboración Secretaría de Economía con datos de INEGI.\",modelo,sep=\"\")\n",
    "        ) + \n",
    "        theme_bw() + \n",
    "        theme(\n",
    "            plot.title = element_text(hjust=0.5),\n",
    "            plot.subtitle = element_text(hjust=0.5),\n",
    "            legend.position=\"bottom\", \n",
    "            plot.caption = element_text(hjust=0)\n",
    "        ) + \n",
    "        scale_colour_manual(\n",
    "            values=c(\"blue\",\"red\", \"black\"), \n",
    "            name=\"\", \n",
    "            labels=c(\"Serie desestacionalizada\", \"Tendencia-ciclo\", \"Filtro Hodrick–Prescott\")\n",
    "        ) \n",
    "\n",
    "    figname <- paste(\"fig/\",var,sep=\"\")\n",
    "    figname <- paste(figname,\".png\", sep=\"\")\n",
    "\n",
    "    ggsave(figname, width=18,height=12,units=\"cm\")\n",
    "    rm(rawdata, wrk, raw_data, seas_adj, arima, modelo, hp_data, plot_data, csv_data,sub_lab, figname)\n",
    "\n",
    "    return(var)\n",
    "}\n",
    "\n"
   ]
  },
  {
   "cell_type": "code",
   "execution_count": 29,
   "metadata": {
    "collapsed": true,
    "jupyter": {
     "outputs_hidden": true
    }
   },
   "outputs": [
    {
     "name": "stderr",
     "output_type": "stream",
     "text": [
      "Parsed with column specification:\n",
      "cols(\n",
      "  .default = col_double()\n",
      ")\n",
      "See spec(...) for full column specifications.\n"
     ]
    },
    {
     "data": {
      "text/html": [
       "'ifb'"
      ],
      "text/latex": [
       "'ifb'"
      ],
      "text/markdown": [
       "'ifb'"
      ],
      "text/plain": [
       "[1] \"ifb\""
      ]
     },
     "metadata": {},
     "output_type": "display_data"
    },
    {
     "name": "stderr",
     "output_type": "stream",
     "text": [
      "Parsed with column specification:\n",
      "cols(\n",
      "  .default = col_double()\n",
      ")\n",
      "See spec(...) for full column specifications.\n"
     ]
    },
    {
     "data": {
      "text/html": [
       "'ifb_c'"
      ],
      "text/latex": [
       "'ifb\\_c'"
      ],
      "text/markdown": [
       "'ifb_c'"
      ],
      "text/plain": [
       "[1] \"ifb_c\""
      ]
     },
     "metadata": {},
     "output_type": "display_data"
    },
    {
     "name": "stderr",
     "output_type": "stream",
     "text": [
      "Parsed with column specification:\n",
      "cols(\n",
      "  .default = col_double()\n",
      ")\n",
      "See spec(...) for full column specifications.\n"
     ]
    },
    {
     "data": {
      "text/html": [
       "'ifb_c_res'"
      ],
      "text/latex": [
       "'ifb\\_c\\_res'"
      ],
      "text/markdown": [
       "'ifb_c_res'"
      ],
      "text/plain": [
       "[1] \"ifb_c_res\""
      ]
     },
     "metadata": {},
     "output_type": "display_data"
    },
    {
     "name": "stderr",
     "output_type": "stream",
     "text": [
      "Parsed with column specification:\n",
      "cols(\n",
      "  .default = col_double()\n",
      ")\n",
      "See spec(...) for full column specifications.\n"
     ]
    },
    {
     "data": {
      "text/html": [
       "'ifb_c_nr'"
      ],
      "text/latex": [
       "'ifb\\_c\\_nr'"
      ],
      "text/markdown": [
       "'ifb_c_nr'"
      ],
      "text/plain": [
       "[1] \"ifb_c_nr\""
      ]
     },
     "metadata": {},
     "output_type": "display_data"
    },
    {
     "name": "stderr",
     "output_type": "stream",
     "text": [
      "Parsed with column specification:\n",
      "cols(\n",
      "  .default = col_double()\n",
      ")\n",
      "See spec(...) for full column specifications.\n"
     ]
    },
    {
     "data": {
      "text/html": [
       "'ifb_mq'"
      ],
      "text/latex": [
       "'ifb\\_mq'"
      ],
      "text/markdown": [
       "'ifb_mq'"
      ],
      "text/plain": [
       "[1] \"ifb_mq\""
      ]
     },
     "metadata": {},
     "output_type": "display_data"
    },
    {
     "name": "stderr",
     "output_type": "stream",
     "text": [
      "Parsed with column specification:\n",
      "cols(\n",
      "  .default = col_double()\n",
      ")\n",
      "See spec(...) for full column specifications.\n"
     ]
    },
    {
     "data": {
      "text/html": [
       "'ifb_mq_nal'"
      ],
      "text/latex": [
       "'ifb\\_mq\\_nal'"
      ],
      "text/markdown": [
       "'ifb_mq_nal'"
      ],
      "text/plain": [
       "[1] \"ifb_mq_nal\""
      ]
     },
     "metadata": {},
     "output_type": "display_data"
    },
    {
     "name": "stderr",
     "output_type": "stream",
     "text": [
      "Parsed with column specification:\n",
      "cols(\n",
      "  .default = col_double()\n",
      ")\n",
      "See spec(...) for full column specifications.\n"
     ]
    },
    {
     "data": {
      "text/html": [
       "'ifb_mq_nal_tran'"
      ],
      "text/latex": [
       "'ifb\\_mq\\_nal\\_tran'"
      ],
      "text/markdown": [
       "'ifb_mq_nal_tran'"
      ],
      "text/plain": [
       "[1] \"ifb_mq_nal_tran\""
      ]
     },
     "metadata": {},
     "output_type": "display_data"
    },
    {
     "name": "stderr",
     "output_type": "stream",
     "text": [
      "Parsed with column specification:\n",
      "cols(\n",
      "  .default = col_double()\n",
      ")\n",
      "See spec(...) for full column specifications.\n"
     ]
    },
    {
     "data": {
      "text/html": [
       "'ifb_mq_nal_mq'"
      ],
      "text/latex": [
       "'ifb\\_mq\\_nal\\_mq'"
      ],
      "text/markdown": [
       "'ifb_mq_nal_mq'"
      ],
      "text/plain": [
       "[1] \"ifb_mq_nal_mq\""
      ]
     },
     "metadata": {},
     "output_type": "display_data"
    },
    {
     "name": "stderr",
     "output_type": "stream",
     "text": [
      "Parsed with column specification:\n",
      "cols(\n",
      "  .default = col_double()\n",
      ")\n",
      "See spec(...) for full column specifications.\n"
     ]
    },
    {
     "data": {
      "text/html": [
       "'ifb_mq_im'"
      ],
      "text/latex": [
       "'ifb\\_mq\\_im'"
      ],
      "text/markdown": [
       "'ifb_mq_im'"
      ],
      "text/plain": [
       "[1] \"ifb_mq_im\""
      ]
     },
     "metadata": {},
     "output_type": "display_data"
    },
    {
     "name": "stderr",
     "output_type": "stream",
     "text": [
      "Parsed with column specification:\n",
      "cols(\n",
      "  .default = col_double()\n",
      ")\n",
      "See spec(...) for full column specifications.\n"
     ]
    },
    {
     "data": {
      "text/html": [
       "'ifb_mq_im_tran'"
      ],
      "text/latex": [
       "'ifb\\_mq\\_im\\_tran'"
      ],
      "text/markdown": [
       "'ifb_mq_im_tran'"
      ],
      "text/plain": [
       "[1] \"ifb_mq_im_tran\""
      ]
     },
     "metadata": {},
     "output_type": "display_data"
    },
    {
     "name": "stderr",
     "output_type": "stream",
     "text": [
      "Parsed with column specification:\n",
      "cols(\n",
      "  .default = col_double()\n",
      ")\n",
      "See spec(...) for full column specifications.\n"
     ]
    },
    {
     "data": {
      "text/html": [
       "'ifb_mq_im_mq'"
      ],
      "text/latex": [
       "'ifb\\_mq\\_im\\_mq'"
      ],
      "text/markdown": [
       "'ifb_mq_im_mq'"
      ],
      "text/plain": [
       "[1] \"ifb_mq_im_mq\""
      ]
     },
     "metadata": {},
     "output_type": "display_data"
    }
   ],
   "source": [
    "# generación de series \n",
    "mytimeseries(\"ifb\", \"Inversión Fija Bruta\")\n",
    "mytimeseries(\"ifb_c\", \"IFB, Construcción\")\n",
    "mytimeseries(\"ifb_c_res\", \"IFB, Construcción Residencial\")\n",
    "mytimeseries(\"ifb_c_nr\", \"IFB, Construcción No Residencial\")\n",
    "mytimeseries(\"ifb_mq\", \"IFB, Maquinaria y Equipo\")\n",
    "mytimeseries(\"ifb_mq_nal\",\"IFB, Maquinaria y Equipo: Nacional\" )\n",
    "mytimeseries(\"ifb_mq_nal_tran\", \"IFB, Maquinaria y Equipo: Nacional, Eq.Transporte\")\n",
    "mytimeseries(\"ifb_mq_nal_mq\", \"IFB, Maquinaria y Equipo: Nacional, Maq. Eq.\")\n",
    "mytimeseries(\"ifb_mq_im\", \"IFB, Maquinaria y Equipo: Importado\")\n",
    "mytimeseries(\"ifb_mq_im_tran\", \"IFB, Maquinaria y Equipo: Importado, Eq.Transporte\")\n",
    "mytimeseries(\"ifb_mq_im_mq\", \"IFB, Maquinaria y Equipo: Nacional, Maq. Eq.\")\n"
   ]
  },
  {
   "cell_type": "markdown",
   "metadata": {},
   "source": [
    "## Inversión Fija Bruta al mes de agosto de 2019 \n",
    "\n",
    "![](fig/ifb.png)\n",
    "\n",
    "![](fig/ifb_c.png)\n",
    "\n",
    "![](fig/ifb_c_res.png)\n",
    "\n",
    "![](fig/ifb_c_nr.png)\n",
    "\n",
    "![](fig/ifb_mq.png)\n",
    "\n",
    "![](fig/ifb_mq_nal.png)\n",
    "\n",
    "![](fig/ifb_mq_nal_mq.png)\n",
    "\n",
    "![](fig/ifb_mq_nal_tran.png)\n",
    "\n",
    "![](fig/ifb_mq_im.png)\n",
    "\n",
    "![](fig/ifb_mq_im_mq.png)\n"
   ]
  }
 ],
 "metadata": {
  "kernelspec": {
   "display_name": "R",
   "language": "R",
   "name": "ir"
  },
  "language_info": {
   "codemirror_mode": "r",
   "file_extension": ".r",
   "mimetype": "text/x-r-source",
   "name": "R",
   "pygments_lexer": "r",
   "version": "3.6.1"
  }
 },
 "nbformat": 4,
 "nbformat_minor": 4
}
